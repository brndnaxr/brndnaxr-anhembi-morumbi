{
  "nbformat": 4,
  "nbformat_minor": 0,
  "metadata": {
    "colab": {
      "provenance": [],
      "toc_visible": true,
      "authorship_tag": "ABX9TyPGIUs58QJ5BXNfL/xz/y9d",
      "include_colab_link": true
    },
    "kernelspec": {
      "name": "python3",
      "display_name": "Python 3"
    },
    "language_info": {
      "name": "python"
    }
  },
  "cells": [
    {
      "cell_type": "markdown",
      "metadata": {
        "id": "view-in-github",
        "colab_type": "text"
      },
      "source": [
        "<a href=\"https://colab.research.google.com/github/brndnaxr/brndnaxr-anhembi-morumbi/blob/main/Prova_2023_01_N1.ipynb\" target=\"_parent\"><img src=\"https://colab.research.google.com/assets/colab-badge.svg\" alt=\"Open In Colab\"/></a>"
      ]
    },
    {
      "cell_type": "markdown",
      "source": [
        "## Passo 1 - Calculando os valores de ``{ u2, u3, u4 }``"
      ],
      "metadata": {
        "id": "HqT_VOtcUzcc"
      }
    },
    {
      "cell_type": "code",
      "execution_count": 1,
      "metadata": {
        "colab": {
          "base_uri": "https://localhost:8080/"
        },
        "id": "SrnWjraQPwBx",
        "outputId": "9b97c174-33af-4483-8ccb-9d908654a020"
      },
      "outputs": [
        {
          "output_type": "stream",
          "name": "stdout",
          "text": [
            "A matriz B é:\n",
            "[2.38580799 2.15742397 3.31305903]\n"
          ]
        }
      ],
      "source": [
        "import numpy as np\n",
        "\n",
        "# Definindo a matriz A\n",
        "A = np.array([[3600, -1200, 0],     # <-- você precisa alterar aqui\n",
        "              [-1200, 6200, -1000], # <-- você precisa alterar aqui\n",
        "              [0, -1000, 2100]])    # <-- você precisa alterar aqui\n",
        "\n",
        "# Definindo a matriz C\n",
        "C = np.array([6000, 7200, 4800]) # <-- você precisa alterar aqui\n",
        "# C = np.array([Fb, Fc, Fd])\n",
        "             \n",
        "### ===========================================\n",
        "### ======== NÃO PRECISA MEXER DAQUI PARA BAIXO\n",
        "# Resolvendo o sistema linear Ax = C para encontrar a matriz B (vetor x)\n",
        "B = np.linalg.solve(A, C)\n",
        "print(\"A matriz B é:\")\n",
        "print(B)"
      ]
    },
    {
      "cell_type": "markdown",
      "source": [
        "## Passo 2 - Calculando os valores de ``{ F1 }`` e ``{ F5 }`` "
      ],
      "metadata": {
        "id": "kNEsB12aU7rO"
      }
    },
    {
      "cell_type": "code",
      "source": [
        "# Define global matrix \n",
        "A = np.array([[6400, -2400, -4000, 0, 0],\n",
        "              [-2400, 3600, -1200, 0, 0],\n",
        "              [-4000, -1200, 5000, -1000, 0],\n",
        "              [0, 0, -1000, 2100, -1100],\n",
        "              [0, 0, 0, -1100, 1100]])\n",
        "\n",
        "# Define matrix u\n",
        "B = np.array([[0],\n",
        "              [2.38580799],\n",
        "              [2.15742397],\n",
        "              [3.31305903],\n",
        "              [0]])\n",
        "\n",
        "# Multiply the first row of A by the first column of B\n",
        "F1 = np.dot(A[0], B[:, 0])\n",
        "F5 = np.dot(A[4], B[:, 0])\n",
        "\n",
        "# Print the result \n",
        "print(f\"A força F1 é de: {F1} N\")\n",
        "print(f\"A força F5 é de: {F5} N\")"
      ],
      "metadata": {
        "colab": {
          "base_uri": "https://localhost:8080/"
        },
        "id": "XxCeuW5WQkXY",
        "outputId": "3dc688a4-c418-45f9-b55b-e5e95ab787eb"
      },
      "execution_count": 2,
      "outputs": [
        {
          "output_type": "stream",
          "name": "stdout",
          "text": [
            "A força F1 é de: -14355.635056 N\n",
            "A força F5 é de: -3644.364933 N\n"
          ]
        }
      ]
    },
    {
      "cell_type": "markdown",
      "source": [
        "## Passo 3 - Calculando os valores de ``{ f1, f2, f3, f4, f5 }``"
      ],
      "metadata": {
        "id": "eUQyL52nVPyg"
      }
    },
    {
      "cell_type": "markdown",
      "source": [
        "![image.png](data:image/png;base64,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)![image.png](data:image/png;base64,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)\n",
        "\n",
        "![image.png](data:image/png;base64,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)"
      ],
      "metadata": {
        "id": "eyDQzlh7f_9d"
      }
    },
    {
      "cell_type": "markdown",
      "source": [
        "### f1 → k1"
      ],
      "metadata": {
        "id": "m67cmGARazc5"
      }
    },
    {
      "cell_type": "code",
      "source": [
        "# Definir a matriz da mola k1\n",
        "A = np.array([[4000, -4000], # <-- você precisa alterar aqui\n",
        "              [-4000, 4000]]) # <-- você precisa alterar aqui\n",
        "\n",
        "# Define matrix B\n",
        "B = np.array([[0],[2.15742397]]) # <-- você precisa alterar aqui\n",
        "\n",
        "### ===========================================\n",
        "### ======== NÃO PRECISA MEXER DAQUI PARA BAIXO\n",
        "# Multiply the first row of A by the first column of B\n",
        "F1 = np.dot(A[0], B[:, 0])\n",
        "_F1 = np.dot(A[1], B[:, 0])\n",
        "\n",
        "# Print the result \n",
        "print(f\"A força F1 é de: {F1} N\")\n",
        "print(f\"A força F2 é de: {_F1} N\")"
      ],
      "metadata": {
        "colab": {
          "base_uri": "https://localhost:8080/"
        },
        "id": "WT59BS17Vn8k",
        "outputId": "ba13fbaa-be06-4284-b4ab-9d1efc93c400"
      },
      "execution_count": 3,
      "outputs": [
        {
          "output_type": "stream",
          "name": "stdout",
          "text": [
            "A força F1 é de: -8629.69588 N\n",
            "A força F2 é de: 8629.69588 N\n"
          ]
        }
      ]
    },
    {
      "cell_type": "markdown",
      "source": [
        "#### Tração"
      ],
      "metadata": {
        "id": "j-UlxLG2oCDK"
      }
    },
    {
      "cell_type": "markdown",
      "source": [
        "### f2 → k2"
      ],
      "metadata": {
        "id": "gJV8efG6bIJ6"
      }
    },
    {
      "cell_type": "code",
      "source": [
        "# Definir a matriz da mola k1\n",
        "A = np.array([[2400, -2400], # <-- você precisa alterar aqui\n",
        "              [-2400, 2400]]) # <-- você precisa alterar aqui\n",
        "\n",
        "# Define matrix B\n",
        "B = np.array([[0],[2.38580799]]) # <-- você precisa alterar aqui\n",
        "\n",
        "### ===========================================\n",
        "### ======== NÃO PRECISA MEXER DAQUI PARA BAIXO\n",
        "# Multiply the first row of A by the first column of B\n",
        "F2 = np.dot(A[0], B[:, 0])\n",
        "_F2 = np.dot(A[1], B[:, 0])\n",
        "\n",
        "# Print the result \n",
        "print(f\"A força F1 é de: {F2} N\")\n",
        "print(f\"A força F2 é de: {_F2} N\")"
      ],
      "metadata": {
        "colab": {
          "base_uri": "https://localhost:8080/"
        },
        "id": "ioD_4ercaefc",
        "outputId": "22d54564-a608-466f-a348-be46dbecdc3b"
      },
      "execution_count": 4,
      "outputs": [
        {
          "output_type": "stream",
          "name": "stdout",
          "text": [
            "A força F1 é de: -5725.939176 N\n",
            "A força F2 é de: 5725.939176 N\n"
          ]
        }
      ]
    },
    {
      "cell_type": "markdown",
      "source": [
        "#### Tração"
      ],
      "metadata": {
        "id": "HKIjDQ7joIZx"
      }
    },
    {
      "cell_type": "markdown",
      "source": [
        "### f3 → k3"
      ],
      "metadata": {
        "id": "MYattIhQgiFx"
      }
    },
    {
      "cell_type": "code",
      "source": [
        "# Definir a matriz da mola k1\n",
        "A = np.array([[1200, -1200], # <-- você precisa alterar aqui\n",
        "              [-1200, 1200]]) # <-- você precisa alterar aqui\n",
        "\n",
        "# Define matrix B\n",
        "B = np.array([[2.38580799],[2.15742397]]) # <-- você precisa alterar aqui\n",
        "\n",
        "### ===========================================\n",
        "### ======== NÃO PRECISA MEXER DAQUI PARA BAIXO\n",
        "# Multiply the first row of A by the first column of B\n",
        "F3 = np.dot(A[0], B[:, 0])\n",
        "_F3 = np.dot(A[1], B[:, 0])\n",
        "\n",
        "# Print the result \n",
        "print(f\"A força F1 é de: {F3} N\")\n",
        "print(f\"A força F2 é de: {_F3} N\")"
      ],
      "metadata": {
        "colab": {
          "base_uri": "https://localhost:8080/"
        },
        "id": "uHWbPTAIbkG5",
        "outputId": "d9610630-37c2-4460-c337-8de70b23ceab"
      },
      "execution_count": 5,
      "outputs": [
        {
          "output_type": "stream",
          "name": "stdout",
          "text": [
            "A força F1 é de: 274.06082400000014 N\n",
            "A força F2 é de: -274.06082400000014 N\n"
          ]
        }
      ]
    },
    {
      "cell_type": "markdown",
      "source": [
        "#### Tração"
      ],
      "metadata": {
        "id": "J58x1EWYoLEA"
      }
    },
    {
      "cell_type": "markdown",
      "source": [
        "### f4 → k4"
      ],
      "metadata": {
        "id": "a17e4-nChHa5"
      }
    },
    {
      "cell_type": "code",
      "source": [
        "# Definir a matriz da mola k1\n",
        "A = np.array([[1000, -1000], # <-- você precisa alterar aqui\n",
        "              [-1000, 1000]]) # <-- você precisa alterar aqui\n",
        "\n",
        "# Define matrix B\n",
        "B = np.array([[2.15742397],[3.31305903]]) # <-- você precisa alterar aqui\n",
        "\n",
        "\n",
        "### ===========================================\n",
        "### ======== NÃO PRECISA MEXER DAQUI PARA BAIXO\n",
        "# Multiply the first row of A by the first column of B\n",
        "F4 = np.dot(A[0], B[:, 0])\n",
        "_F4 = np.dot(A[1], B[:, 0])\n",
        "\n",
        "# Print the result \n",
        "print(f\"A força F1 é de: {F4} N\")\n",
        "print(f\"A força F2 é de: {_F4} N\")"
      ],
      "metadata": {
        "colab": {
          "base_uri": "https://localhost:8080/"
        },
        "id": "Q4FcC2bjhELV",
        "outputId": "431a35c6-1cf8-4fd1-94cc-5db2cffc33a9"
      },
      "execution_count": 6,
      "outputs": [
        {
          "output_type": "stream",
          "name": "stdout",
          "text": [
            "A força F1 é de: -1155.63506 N\n",
            "A força F2 é de: 1155.63506 N\n"
          ]
        }
      ]
    },
    {
      "cell_type": "markdown",
      "source": [
        "#### Tração"
      ],
      "metadata": {
        "id": "TqNUMYjXoNqJ"
      }
    },
    {
      "cell_type": "markdown",
      "source": [
        "### f5 → k5"
      ],
      "metadata": {
        "id": "l_KQaq7whjNC"
      }
    },
    {
      "cell_type": "code",
      "source": [
        "# Definir a matriz da mola k1\n",
        "A = np.array([[1100, -1100], # <-- você precisa alterar aqui\n",
        "              [-1100, 1100]]) # <-- você precisa alterar aqui\n",
        "\n",
        "# Define matrix B\n",
        "B = np.array([[3.31305903],[0]]) # <-- você precisa alterar aqui\n",
        "\n",
        "### ===========================================\n",
        "### ======== NÃO PRECISA MEXER DAQUI PARA BAIXO\n",
        "# Multiply the first row of A by the first column of B\n",
        "F5 = np.dot(A[0], B[:, 0])\n",
        "_F5 = np.dot(A[1], B[:, 0])\n",
        "\n",
        "# Print the result \n",
        "print(f\"A força F1 é de: {F5} N\")\n",
        "print(f\"A força F2 é de: {_F5} N\")"
      ],
      "metadata": {
        "colab": {
          "base_uri": "https://localhost:8080/"
        },
        "id": "cj7GSsvyhlWo",
        "outputId": "598d7e88-1873-43ad-eb38-71037fb7b9d3"
      },
      "execution_count": 7,
      "outputs": [
        {
          "output_type": "stream",
          "name": "stdout",
          "text": [
            "A força F1 é de: 3644.364933 N\n",
            "A força F2 é de: -3644.364933 N\n"
          ]
        }
      ]
    },
    {
      "cell_type": "markdown",
      "source": [
        "#### Compressão"
      ],
      "metadata": {
        "id": "A0JfBiGMoT_z"
      }
    },
    {
      "cell_type": "markdown",
      "source": [
        "## Passo 4 - Calculando os deslocamentos"
      ],
      "metadata": {
        "id": "y5U4a0LJiCyZ"
      }
    },
    {
      "cell_type": "code",
      "source": [
        "# Valores de k\n",
        "k1 = 4000\n",
        "k2 = 2400\n",
        "k3 = 1200\n",
        "k4 = 1000\n",
        "k5 = 1100"
      ],
      "metadata": {
        "id": "lYNr1NM7jhBy"
      },
      "execution_count": 8,
      "outputs": []
    },
    {
      "cell_type": "code",
      "source": [
        "# Deslocamento 1º mola\n",
        "d1 = _F1/k1\n",
        "d2 = _F2/k2\n",
        "d3 = _F3/k3\n",
        "d4 = _F4/k4\n",
        "d5 = _F5/k5\n",
        "\n",
        "print(\"----------------------------------------------------\")\n",
        "print(f'Deslocamento d1: {d1} mm')\n",
        "print(\"----------------------------------------------------\")\n",
        "print(f'Deslocamento d2: {d2} mm')\n",
        "print(\"----------------------------------------------------\")\n",
        "print(f'Deslocamento d3: {d3} mm')\n",
        "print(\"----------------------------------------------------\")\n",
        "print(f'Deslocamento d4: {d4} mm')\n",
        "print(\"----------------------------------------------------\")\n",
        "print(f'Deslocamento d5: {d5} mm')\n",
        "print(\"----------------------------------------------------\")"
      ],
      "metadata": {
        "colab": {
          "base_uri": "https://localhost:8080/"
        },
        "id": "iKk-RyT5iFco",
        "outputId": "d5525c2e-5928-4269-a994-144f0f35d9e2"
      },
      "execution_count": 9,
      "outputs": [
        {
          "output_type": "stream",
          "name": "stdout",
          "text": [
            "----------------------------------------------------\n",
            "Deslocamento d1: 2.15742397 mm\n",
            "----------------------------------------------------\n",
            "Deslocamento d2: 2.38580799 mm\n",
            "----------------------------------------------------\n",
            "Deslocamento d3: -0.2283840200000001 mm\n",
            "----------------------------------------------------\n",
            "Deslocamento d4: 1.15563506 mm\n",
            "----------------------------------------------------\n",
            "Deslocamento d5: -3.31305903 mm\n",
            "----------------------------------------------------\n"
          ]
        }
      ]
    }
  ]
}