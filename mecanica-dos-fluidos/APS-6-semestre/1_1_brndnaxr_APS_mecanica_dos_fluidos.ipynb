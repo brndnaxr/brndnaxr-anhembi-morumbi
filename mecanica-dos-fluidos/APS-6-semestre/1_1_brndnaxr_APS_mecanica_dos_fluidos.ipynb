{
  "nbformat": 4,
  "nbformat_minor": 0,
  "metadata": {
    "colab": {
      "name": "1-1-brndnaxr-APS-mecanica-dos-fluidos.ipynb",
      "provenance": [],
      "collapsed_sections": [],
      "toc_visible": true
    },
    "kernelspec": {
      "display_name": "Python 3",
      "language": "python",
      "name": "python3"
    },
    "language_info": {
      "codemirror_mode": {
        "name": "ipython",
        "version": 3
      },
      "file_extension": ".py",
      "mimetype": "text/x-python",
      "name": "python",
      "nbconvert_exporter": "python",
      "pygments_lexer": "ipython3",
      "version": "3.8.8"
    }
  },
  "cells": [
    {
      "cell_type": "markdown",
      "metadata": {
        "id": "6mbAoJB4PgM5"
      },
      "source": [
        "<center>\n",
        "    <a href = \"https://github.com/brndnaxr\">\n",
        "    <img src=\"https://64.media.tumblr.com/de70f81b2d149064c8714864244d6e20/649c99e42a5c377a-49/s400x600/8bcb986589d9e2974995f94329239137f956e333.png\" width=\"100\" alt=\"Error 404\"/>\n",
        "    </a>\n",
        "</center>"
      ]
    },
    {
      "cell_type": "markdown",
      "metadata": {
        "id": "O95RCuKhO0Ws"
      },
      "source": [
        "# **Mecânica dos Fluidos** - Atividade Prática Supervisionada (APS)"
      ]
    },
    {
      "cell_type": "markdown",
      "metadata": {
        "id": "s8rLJWuiS6Lj"
      },
      "source": [
        "<hr>\n",
        "\n",
        "# Breve Teórico\n",
        "\n"
      ]
    },
    {
      "cell_type": "markdown",
      "metadata": {
        "id": "6MkgVqhg19w8"
      },
      "source": [
        "Consideremos um reservatório contendo água. E um orifício lateral para escape conforme imagem abaixo. De acordo com experimento realizado em laboratório, troquemos - em teoria - o orifício por uma válula de escape cujo diâmetro $D$ é igual a $8mm$ e altura inicial $h$ é igual a $950mm$. **Determinar os gráficos solicitados, e os cálculos pedidos**."
      ]
    },
    {
      "cell_type": "markdown",
      "metadata": {
        "id": "cNd181jJ1GmJ"
      },
      "source": [
        "<center>\n",
        "<img src=\"https://64.media.tumblr.com/463a084d81e0c049be0e182cc70412f1/94aa73d627154101-9e/s640x960/83e8067102aaf28985b3b32aa89de1e8ab56923e.jpg\" width=\"600\" alt=\"Error 404\"/>\n",
        "</center>"
      ]
    },
    {
      "cell_type": "markdown",
      "metadata": {
        "id": "i7UVzapp1v2L"
      },
      "source": [
        "<center><strong>Figura 1:</strong> Imagem ilustrativa do experimento\n",
        "</center> "
      ]
    },
    {
      "cell_type": "markdown",
      "metadata": {
        "id": "3u4Vj9lb8gp7"
      },
      "source": [
        "# Equações\n",
        "\n",
        "(01) A velocidade para cada altura:\n",
        "\n",
        "$$ v = \\sqrt{2gh}  $$\n",
        "\n",
        "(02) A vazão para cada altura:\n",
        "\n",
        "$$ Q = v*A   $$\n",
        "\n",
        "(03) A área:\n",
        "\n",
        "$$ A =  \\frac{\\pi*D^{2}}{4}  $$\n",
        "\n",
        "\n",
        "* $v(m/s) \\rightarrow$  velocidade\n",
        "* $ Q(m^{3}/s) \\rightarrow$ vazão\n",
        "* $D(mm) \\rightarrow$ diâmetro do bico de escape\n",
        "* $A(mm^2) \\rightarrow$ área"
      ]
    },
    {
      "cell_type": "markdown",
      "metadata": {
        "id": "Bfy83UWjbk0Y"
      },
      "source": [
        "## Primeira Parte\n",
        "\n",
        "* [Loading packages](#ch0.0)\n",
        "\n",
        "Determinar:\n",
        "\n",
        "* [1.1 Gráfico H(mm) em função do t(s)](#ch1.1)\n",
        "* [1.2 Gráfico x(mm) em função do t(s)](#ch1.2)\n",
        "* [1.3 Gráfico x(mm) em função de H(mm)](#ch1.3)\n",
        "\n",
        "<hr>\n"
      ]
    },
    {
      "cell_type": "markdown",
      "metadata": {
        "id": "fxvR2alNTPJN"
      },
      "source": [
        "### Loading packages  <a id=\"ch0.0\"></a>"
      ]
    },
    {
      "cell_type": "markdown",
      "metadata": {
        "id": "N6yhaS-1RA_v"
      },
      "source": [
        "**0.0 Basic imports** "
      ]
    },
    {
      "cell_type": "code",
      "metadata": {
        "id": "VJiaJ7jxuc5A"
      },
      "source": [
        "import numpy             as np\n",
        "import pandas            as pd\n",
        "\n",
        "import seaborn           as sns\n",
        "import matplotlib.pyplot as plt"
      ],
      "execution_count": 1,
      "outputs": []
    },
    {
      "cell_type": "markdown",
      "metadata": {
        "id": "qF_LWbnJWfFD"
      },
      "source": [
        "**0.1 Helper functions**"
      ]
    },
    {
      "cell_type": "code",
      "metadata": {
        "id": "VRHerb57WfFE"
      },
      "source": [
        "def jupyter_settings():\n",
        "    %matplotlib inline\n",
        "    %pylab inline\n",
        "    \n",
        "    pd.options.display.max_columns = None\n",
        "    pd.options.display.max_rows = None\n",
        "    pd.set_option('display.expand_frame_repr', False)\n",
        "    \n",
        "    sns.set_theme(style=\"whitegrid\")"
      ],
      "execution_count": 2,
      "outputs": []
    },
    {
      "cell_type": "code",
      "metadata": {
        "colab": {
          "base_uri": "https://localhost:8080/"
        },
        "id": "dl5p7zj9WpsO",
        "outputId": "f2f54b92-1a44-464e-d956-07a68ffb9ca5"
      },
      "source": [
        "jupyter_settings()"
      ],
      "execution_count": 3,
      "outputs": [
        {
          "output_type": "stream",
          "name": "stdout",
          "text": [
            "Populating the interactive namespace from numpy and matplotlib\n"
          ]
        }
      ]
    },
    {
      "cell_type": "markdown",
      "metadata": {
        "id": "QlXj7rP4eK89"
      },
      "source": [
        "### 1.0 Dados do problema\n",
        "\n",
        "Adquiridos empiricamente conforme experimento no laboratório."
      ]
    },
    {
      "cell_type": "code",
      "metadata": {
        "colab": {
          "base_uri": "https://localhost:8080/",
          "height": 265
        },
        "id": "yyZe-fwfeGN0",
        "outputId": "6ef3da2b-15fa-4de8-b72d-47985cf9188e"
      },
      "source": [
        "### cria 'DataFrames' por meio de um dicionario\n",
        "datapoints = {'H(mm)':[950,850,750,650,550,450,350],\n",
        "             'x(mm)':[770,720,660,590,520,420,320],\n",
        "            't(s)':[0,43,92,144,202,269,348]}          \n",
        "\n",
        "df = pd.DataFrame(data=datapoints) ### gera o dataframe\n",
        "df ### visualiza"
      ],
      "execution_count": 4,
      "outputs": [
        {
          "output_type": "execute_result",
          "data": {
            "text/html": [
              "<div>\n",
              "<style scoped>\n",
              "    .dataframe tbody tr th:only-of-type {\n",
              "        vertical-align: middle;\n",
              "    }\n",
              "\n",
              "    .dataframe tbody tr th {\n",
              "        vertical-align: top;\n",
              "    }\n",
              "\n",
              "    .dataframe thead th {\n",
              "        text-align: right;\n",
              "    }\n",
              "</style>\n",
              "<table border=\"1\" class=\"dataframe\">\n",
              "  <thead>\n",
              "    <tr style=\"text-align: right;\">\n",
              "      <th></th>\n",
              "      <th>H(mm)</th>\n",
              "      <th>x(mm)</th>\n",
              "      <th>t(s)</th>\n",
              "    </tr>\n",
              "  </thead>\n",
              "  <tbody>\n",
              "    <tr>\n",
              "      <th>0</th>\n",
              "      <td>950</td>\n",
              "      <td>770</td>\n",
              "      <td>0</td>\n",
              "    </tr>\n",
              "    <tr>\n",
              "      <th>1</th>\n",
              "      <td>850</td>\n",
              "      <td>720</td>\n",
              "      <td>43</td>\n",
              "    </tr>\n",
              "    <tr>\n",
              "      <th>2</th>\n",
              "      <td>750</td>\n",
              "      <td>660</td>\n",
              "      <td>92</td>\n",
              "    </tr>\n",
              "    <tr>\n",
              "      <th>3</th>\n",
              "      <td>650</td>\n",
              "      <td>590</td>\n",
              "      <td>144</td>\n",
              "    </tr>\n",
              "    <tr>\n",
              "      <th>4</th>\n",
              "      <td>550</td>\n",
              "      <td>520</td>\n",
              "      <td>202</td>\n",
              "    </tr>\n",
              "    <tr>\n",
              "      <th>5</th>\n",
              "      <td>450</td>\n",
              "      <td>420</td>\n",
              "      <td>269</td>\n",
              "    </tr>\n",
              "    <tr>\n",
              "      <th>6</th>\n",
              "      <td>350</td>\n",
              "      <td>320</td>\n",
              "      <td>348</td>\n",
              "    </tr>\n",
              "  </tbody>\n",
              "</table>\n",
              "</div>"
            ],
            "text/plain": [
              "   H(mm)  x(mm)  t(s)\n",
              "0    950    770     0\n",
              "1    850    720    43\n",
              "2    750    660    92\n",
              "3    650    590   144\n",
              "4    550    520   202\n",
              "5    450    420   269\n",
              "6    350    320   348"
            ]
          },
          "metadata": {},
          "execution_count": 4
        }
      ]
    },
    {
      "cell_type": "markdown",
      "metadata": {
        "id": "fNlymlAiWfFF"
      },
      "source": [
        "### 1.1 Gráfico H(mm) em função do t(s) <a id=\"ch1.1\"></a>"
      ]
    },
    {
      "cell_type": "code",
      "metadata": {
        "colab": {
          "base_uri": "https://localhost:8080/",
          "height": 339
        },
        "id": "_4N5HACGbVY2",
        "outputId": "c2cc6e17-761a-4168-8ff9-64c566f24a5e"
      },
      "source": [
        "plt.figure(figsize=(15,5))\n",
        "sns.regplot(x=df['t(s)'], y=df['H(mm)'], fit_reg=False,\n",
        "                scatter_kws={\"color\":\"darkred\",\"alpha\":0.5,\"s\":100});\n",
        "plt.show();"
      ],
      "execution_count": 5,
      "outputs": [
        {
          "output_type": "display_data",
          "data": {
            "image/png": "[encoded data removed]",
            "text/plain": [
              "<Figure size 1080x360 with 1 Axes>"
            ]
          },
          "metadata": {}
        }
      ]
    },
    {
      "cell_type": "markdown",
      "metadata": {
        "id": "NPLYR5-bcZeg"
      },
      "source": [
        "### 1.2 Gráfico x(mm) em função do t(s) <a id=\"ch1.2\"></a>"
      ]
    },
    {
      "cell_type": "code",
      "metadata": {
        "colab": {
          "base_uri": "https://localhost:8080/",
          "height": 339
        },
        "id": "x5EghwGwbVdr",
        "outputId": "5e0d0554-fa10-46a3-98fa-0c6eb9559d07"
      },
      "source": [
        "plt.figure(figsize=(15,5))\n",
        "sns.regplot(x=df['t(s)'], y=df['x(mm)'], fit_reg=False,\n",
        "                scatter_kws={\"color\":\"darkred\",\"alpha\":0.5,\"s\":100});\n",
        "plt.show();"
      ],
      "execution_count": 6,
      "outputs": [
        {
          "output_type": "display_data",
          "data": {
            "image/png": "[encoded data removed]",
            "text/plain": [
              "<Figure size 1080x360 with 1 Axes>"
            ]
          },
          "metadata": {}
        }
      ]
    },
    {
      "cell_type": "markdown",
      "metadata": {
        "id": "tVp4O2KtchTd"
      },
      "source": [
        "### 1.3 Gráfico x(mm) em função do H(mm) <a id=\"ch1.3\"></a>"
      ]
    },
    {
      "cell_type": "code",
      "metadata": {
        "colab": {
          "base_uri": "https://localhost:8080/",
          "height": 339
        },
        "id": "B5b94iAUbVhL",
        "outputId": "51439721-dacc-436c-ef04-7a043bfe0cfe"
      },
      "source": [
        "plt.figure(figsize=(15,5))\n",
        "sns.regplot(x=df['x(mm)'], y=df['H(mm)'], fit_reg=False,\n",
        "                scatter_kws={\"color\":\"darkred\",\"alpha\":0.5,\"s\":100});\n",
        "plt.show();"
      ],
      "execution_count": 7,
      "outputs": [
        {
          "output_type": "display_data",
          "data": {
            "image/png": "[encoded data removed]",
            "text/plain": [
              "<Figure size 1080x360 with 1 Axes>"
            ]
          },
          "metadata": {}
        }
      ]
    },
    {
      "cell_type": "markdown",
      "metadata": {
        "id": "RFSX3gHAbmFQ"
      },
      "source": [
        "<hr>\n",
        "\n",
        "## Segunda parte\n",
        "\n",
        "Determinar:\n",
        "\n",
        "* [2.1 A velocidade para cada altura](#ch2.1)\n",
        "* [2.2 A vazão para cada altura](#ch2.2)\n",
        "* [2.3 Gráfico Q(m^3/s) em função do H(mm)](#ch2.3)\n",
        "* [2.4 Gráfico v(m/s) em função do H(mm)](#ch2.4)\n",
        "\n",
        "<hr>"
      ]
    },
    {
      "cell_type": "markdown",
      "metadata": {
        "id": "W_LStuAWcryb"
      },
      "source": [
        "### 2.1 A velocidade para cada altura  <a id=\"ch2.1\"></a>"
      ]
    },
    {
      "cell_type": "code",
      "metadata": {
        "colab": {
          "base_uri": "https://localhost:8080/",
          "height": 265
        },
        "id": "-BTLOsdbc12Q",
        "outputId": "332d50b5-5d85-483b-e373-6f82795a3c65"
      },
      "source": [
        "df['v(m/s)'] = np.sqrt(2*9.81*df['H(mm)']*0.001) ### calcula coluna 'v(m/s)'\n",
        "df ## visualiza"
      ],
      "execution_count": 8,
      "outputs": [
        {
          "output_type": "execute_result",
          "data": {
            "text/html": [
              "<div>\n",
              "<style scoped>\n",
              "    .dataframe tbody tr th:only-of-type {\n",
              "        vertical-align: middle;\n",
              "    }\n",
              "\n",
              "    .dataframe tbody tr th {\n",
              "        vertical-align: top;\n",
              "    }\n",
              "\n",
              "    .dataframe thead th {\n",
              "        text-align: right;\n",
              "    }\n",
              "</style>\n",
              "<table border=\"1\" class=\"dataframe\">\n",
              "  <thead>\n",
              "    <tr style=\"text-align: right;\">\n",
              "      <th></th>\n",
              "      <th>H(mm)</th>\n",
              "      <th>x(mm)</th>\n",
              "      <th>t(s)</th>\n",
              "      <th>v(m/s)</th>\n",
              "    </tr>\n",
              "  </thead>\n",
              "  <tbody>\n",
              "    <tr>\n",
              "      <th>0</th>\n",
              "      <td>950</td>\n",
              "      <td>770</td>\n",
              "      <td>0</td>\n",
              "      <td>4.317291</td>\n",
              "    </tr>\n",
              "    <tr>\n",
              "      <th>1</th>\n",
              "      <td>850</td>\n",
              "      <td>720</td>\n",
              "      <td>43</td>\n",
              "      <td>4.083748</td>\n",
              "    </tr>\n",
              "    <tr>\n",
              "      <th>2</th>\n",
              "      <td>750</td>\n",
              "      <td>660</td>\n",
              "      <td>92</td>\n",
              "      <td>3.836014</td>\n",
              "    </tr>\n",
              "    <tr>\n",
              "      <th>3</th>\n",
              "      <td>650</td>\n",
              "      <td>590</td>\n",
              "      <td>144</td>\n",
              "      <td>3.571134</td>\n",
              "    </tr>\n",
              "    <tr>\n",
              "      <th>4</th>\n",
              "      <td>550</td>\n",
              "      <td>520</td>\n",
              "      <td>202</td>\n",
              "      <td>3.284966</td>\n",
              "    </tr>\n",
              "    <tr>\n",
              "      <th>5</th>\n",
              "      <td>450</td>\n",
              "      <td>420</td>\n",
              "      <td>269</td>\n",
              "      <td>2.971363</td>\n",
              "    </tr>\n",
              "    <tr>\n",
              "      <th>6</th>\n",
              "      <td>350</td>\n",
              "      <td>320</td>\n",
              "      <td>348</td>\n",
              "      <td>2.620496</td>\n",
              "    </tr>\n",
              "  </tbody>\n",
              "</table>\n",
              "</div>"
            ],
            "text/plain": [
              "   H(mm)  x(mm)  t(s)    v(m/s)\n",
              "0    950    770     0  4.317291\n",
              "1    850    720    43  4.083748\n",
              "2    750    660    92  3.836014\n",
              "3    650    590   144  3.571134\n",
              "4    550    520   202  3.284966\n",
              "5    450    420   269  2.971363\n",
              "6    350    320   348  2.620496"
            ]
          },
          "metadata": {},
          "execution_count": 8
        }
      ]
    },
    {
      "cell_type": "markdown",
      "metadata": {
        "id": "sSN1GslVc9x1"
      },
      "source": [
        "### 2.2 A vazão para cada altura <a id=\"ch2.2\"></a>"
      ]
    },
    {
      "cell_type": "code",
      "metadata": {
        "colab": {
          "base_uri": "https://localhost:8080/",
          "height": 265
        },
        "id": "TxOZoekOc14p",
        "outputId": "ac491d8a-52a9-445c-abdc-907c063014a1"
      },
      "source": [
        "df['Q(m^3/s)'] = df['v(m/s)']*np.pi*(0.004**2)  ### calcula coluna 'Q(m^3/s)'\n",
        "df"
      ],
      "execution_count": 9,
      "outputs": [
        {
          "output_type": "execute_result",
          "data": {
            "text/html": [
              "<div>\n",
              "<style scoped>\n",
              "    .dataframe tbody tr th:only-of-type {\n",
              "        vertical-align: middle;\n",
              "    }\n",
              "\n",
              "    .dataframe tbody tr th {\n",
              "        vertical-align: top;\n",
              "    }\n",
              "\n",
              "    .dataframe thead th {\n",
              "        text-align: right;\n",
              "    }\n",
              "</style>\n",
              "<table border=\"1\" class=\"dataframe\">\n",
              "  <thead>\n",
              "    <tr style=\"text-align: right;\">\n",
              "      <th></th>\n",
              "      <th>H(mm)</th>\n",
              "      <th>x(mm)</th>\n",
              "      <th>t(s)</th>\n",
              "      <th>v(m/s)</th>\n",
              "      <th>Q(m^3/s)</th>\n",
              "    </tr>\n",
              "  </thead>\n",
              "  <tbody>\n",
              "    <tr>\n",
              "      <th>0</th>\n",
              "      <td>950</td>\n",
              "      <td>770</td>\n",
              "      <td>0</td>\n",
              "      <td>4.317291</td>\n",
              "      <td>0.000217</td>\n",
              "    </tr>\n",
              "    <tr>\n",
              "      <th>1</th>\n",
              "      <td>850</td>\n",
              "      <td>720</td>\n",
              "      <td>43</td>\n",
              "      <td>4.083748</td>\n",
              "      <td>0.000205</td>\n",
              "    </tr>\n",
              "    <tr>\n",
              "      <th>2</th>\n",
              "      <td>750</td>\n",
              "      <td>660</td>\n",
              "      <td>92</td>\n",
              "      <td>3.836014</td>\n",
              "      <td>0.000193</td>\n",
              "    </tr>\n",
              "    <tr>\n",
              "      <th>3</th>\n",
              "      <td>650</td>\n",
              "      <td>590</td>\n",
              "      <td>144</td>\n",
              "      <td>3.571134</td>\n",
              "      <td>0.000180</td>\n",
              "    </tr>\n",
              "    <tr>\n",
              "      <th>4</th>\n",
              "      <td>550</td>\n",
              "      <td>520</td>\n",
              "      <td>202</td>\n",
              "      <td>3.284966</td>\n",
              "      <td>0.000165</td>\n",
              "    </tr>\n",
              "    <tr>\n",
              "      <th>5</th>\n",
              "      <td>450</td>\n",
              "      <td>420</td>\n",
              "      <td>269</td>\n",
              "      <td>2.971363</td>\n",
              "      <td>0.000149</td>\n",
              "    </tr>\n",
              "    <tr>\n",
              "      <th>6</th>\n",
              "      <td>350</td>\n",
              "      <td>320</td>\n",
              "      <td>348</td>\n",
              "      <td>2.620496</td>\n",
              "      <td>0.000132</td>\n",
              "    </tr>\n",
              "  </tbody>\n",
              "</table>\n",
              "</div>"
            ],
            "text/plain": [
              "   H(mm)  x(mm)  t(s)    v(m/s)  Q(m^3/s)\n",
              "0    950    770     0  4.317291  0.000217\n",
              "1    850    720    43  4.083748  0.000205\n",
              "2    750    660    92  3.836014  0.000193\n",
              "3    650    590   144  3.571134  0.000180\n",
              "4    550    520   202  3.284966  0.000165\n",
              "5    450    420   269  2.971363  0.000149\n",
              "6    350    320   348  2.620496  0.000132"
            ]
          },
          "metadata": {},
          "execution_count": 9
        }
      ]
    },
    {
      "cell_type": "markdown",
      "metadata": {
        "id": "w46Q0Wcac1_Q"
      },
      "source": [
        "### 2.3 Gráfico Q(m^3/s) em função do H(mm) <a id=\"ch2.3\"></a>"
      ]
    },
    {
      "cell_type": "code",
      "metadata": {
        "colab": {
          "base_uri": "https://localhost:8080/",
          "height": 340
        },
        "id": "1qjgQkUjc2fT",
        "outputId": "350aa13f-6b8c-451d-9fb0-7e16d7d4aa1c"
      },
      "source": [
        "plt.figure(figsize=(15,5))\n",
        "sns.regplot(x=df['H(mm)'], y=df['Q(m^3/s)'], fit_reg=False,\n",
        "                scatter_kws={\"color\":\"darkred\",\"alpha\":0.5,\"s\":100});\n",
        "plt.show();"
      ],
      "execution_count": 10,
      "outputs": [
        {
          "output_type": "display_data",
          "data": {
            "image/png": "[encoded data removed]",
            "text/plain": [
              "<Figure size 1080x360 with 1 Axes>"
            ]
          },
          "metadata": {}
        }
      ]
    },
    {
      "cell_type": "markdown",
      "metadata": {
        "id": "qzkclD5qdW36"
      },
      "source": [
        "### 2.4 Gráfico v(m/s) em função do H(mm) <a id=\"ch2.4\"></a>"
      ]
    },
    {
      "cell_type": "code",
      "metadata": {
        "colab": {
          "base_uri": "https://localhost:8080/",
          "height": 339
        },
        "id": "Fe4kapkwud5P",
        "outputId": "00ad1ce4-9896-437d-aa05-773d2f20c9ff"
      },
      "source": [
        "plt.figure(figsize=(15,5))\n",
        "sns.regplot(x=df['H(mm)'], y=df['v(m/s)'], fit_reg=False,\n",
        "                scatter_kws={\"color\":\"darkred\",\"alpha\":0.5,\"s\":100});\n",
        "plt.show();"
      ],
      "execution_count": 11,
      "outputs": [
        {
          "output_type": "display_data",
          "data": {
            "image/png": "[encoded data removed]",
            "text/plain": [
              "<Figure size 1080x360 with 1 Axes>"
            ]
          },
          "metadata": {}
        }
      ]
    },
    {
      "cell_type": "markdown",
      "metadata": {
        "id": "BgCjsHBo_KYQ"
      },
      "source": [
        "# Referências <a id=\"ch10\"></a>\n",
        "\n",
        "**Textbook**\n",
        "\n",
        "* Introdução à Mecânca dos Fluidos e aos Fenômenos de Transporte.  http://www.ambiental.ufpr.br/portal/wp-content/uploads/2014/11/MecFlu-v3-8cap.pdf\n",
        "\n",
        "**Article**\n",
        "\n",
        "* Physics, Chapter 9: Hydrodynamics (Fluids in Motion). https://digitalcommons.unl.edu/cgi/viewcontent.cgi?article=1144&context=physicskatz"
      ]
    },
    {
      "cell_type": "markdown",
      "metadata": {
        "id": "vbCopXIr_KcC"
      },
      "source": [
        "# Change Log<a id=\"ch9.3\"></a>\n",
        "\n",
        "| Date (YYYY-MM-DD) | Version | Changed By    | Change Description                                        |\n",
        "| ----------------- | ------- | ------------- | --------------------------------------------------------- |\n",
        "| 2021-10-26        | 1.0    | Brandon Aguiar | Modelagem inicial com suposta falta de dados                           |\n",
        "| 2021-11-03        | 1.1    | Brandon Aguiar | Dúvidas esclarecidas e portanto atividade finalizada                        |"
      ]
    },
    {
      "cell_type": "markdown",
      "metadata": {
        "id": "jO28Ty2a-2Yv"
      },
      "source": [
        "<h1 align=\"center\"> © brndnaxr - 2021 <h1/>"
      ]
    }
  ]
}